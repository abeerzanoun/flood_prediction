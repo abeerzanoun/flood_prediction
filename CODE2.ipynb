{
  "nbformat": 4,
  "nbformat_minor": 0,
  "metadata": {
    "colab": {
      "provenance": []
    },
    "kernelspec": {
      "name": "python3",
      "display_name": "Python 3"
    },
    "language_info": {
      "name": "python"
    }
  },
  "cells": [
    {
      "cell_type": "code",
      "execution_count": 1,
      "metadata": {
        "id": "rvgNBeyKtgZR"
      },
      "outputs": [],
      "source": [
        "import pandas as pd\n",
        "import numpy as np\n",
        "import seaborn as sns\n",
        "import matplotlib.pyplot as plt"
      ]
    },
    {
      "cell_type": "code",
      "source": [
        "df=pd.read_csv('DataProject.csv')"
      ],
      "metadata": {
        "id": "dL88HuRxtmmf"
      },
      "execution_count": 2,
      "outputs": []
    },
    {
      "cell_type": "code",
      "source": [
        "df"
      ],
      "metadata": {
        "colab": {
          "base_uri": "https://localhost:8080/",
          "height": 488
        },
        "id": "DwQppZ17tmjf",
        "outputId": "d5eace24-f31d-4e93-8f8d-a3ab62639f63"
      },
      "execution_count": 3,
      "outputs": [
        {
          "output_type": "execute_result",
          "data": {
            "text/plain": [
              "          Sl Station_Names  Year  Month  Max_Temp  Min_Temp  Rainfall  \\\n",
              "0          0       Barisal  1949      1      29.4      12.3       0.0   \n",
              "1          1       Barisal  1949      2      33.9      15.2       9.0   \n",
              "2          2       Barisal  1949      3      36.7      20.2       8.0   \n",
              "3          3       Barisal  1949      4      33.9      23.9     140.0   \n",
              "4          4       Barisal  1949      5      35.6      25.0     217.0   \n",
              "...      ...           ...   ...    ...       ...       ...       ...   \n",
              "20539  20539        Teknaf  2013      8      32.5      25.4     851.0   \n",
              "20540  20540        Teknaf  2013      9      32.6      25.7     329.0   \n",
              "20541  20541        Teknaf  2013     10      33.1      24.8     271.0   \n",
              "20542  20542        Teknaf  2013     11      32.5      20.0       0.0   \n",
              "20543  20543        Teknaf  2013     12      29.9      16.5       0.0   \n",
              "\n",
              "       Relative_Humidity  Wind_Speed  Cloud_Coverage  Bright_Sunshine  \\\n",
              "0                   68.0    0.453704             0.6         7.831915   \n",
              "1                   63.0    0.659259             0.9         8.314894   \n",
              "2                   59.0    1.085185             1.5         8.131915   \n",
              "3                   71.0    1.772222             3.9         8.219149   \n",
              "4                   76.0    1.703704             4.1         7.046809   \n",
              "...                  ...         ...             ...              ...   \n",
              "20539               88.0    2.500000             6.2         3.800000   \n",
              "20540               88.0    3.000000             6.1         4.200000   \n",
              "20541               85.0    2.500000             4.4         5.600000   \n",
              "20542               79.0    2.100000             1.7         8.400000   \n",
              "20543               72.0    3.000000             0.9         8.100000   \n",
              "\n",
              "       Station_Number     X_COR     Y_COR  LATITUDE  LONGITUDE  ALT   Period  \\\n",
              "0               41950  536809.8  510151.9     22.70      90.36    4  1949.01   \n",
              "1               41950  536809.8  510151.9     22.70      90.36    4  1949.02   \n",
              "2               41950  536809.8  510151.9     22.70      90.36    4  1949.03   \n",
              "3               41950  536809.8  510151.9     22.70      90.36    4  1949.04   \n",
              "4               41950  536809.8  510151.9     22.70      90.36    4  1949.05   \n",
              "...               ...       ...       ...       ...        ...  ...      ...   \n",
              "20539           41998  734765.4  308914.1     20.87      92.26    4  2013.08   \n",
              "20540           41998  734765.4  308914.1     20.87      92.26    4  2013.09   \n",
              "20541           41998  734765.4  308914.1     20.87      92.26    4  2013.10   \n",
              "20542           41998  734765.4  308914.1     20.87      92.26    4  2013.11   \n",
              "20543           41998  734765.4  308914.1     20.87      92.26    4  2013.12   \n",
              "\n",
              "       Flood?  \n",
              "0         NaN  \n",
              "1         NaN  \n",
              "2         NaN  \n",
              "3         NaN  \n",
              "4         NaN  \n",
              "...       ...  \n",
              "20539     1.0  \n",
              "20540     NaN  \n",
              "20541     NaN  \n",
              "20542     NaN  \n",
              "20543     NaN  \n",
              "\n",
              "[20544 rows x 19 columns]"
            ],
            "text/html": [
              "\n",
              "  <div id=\"df-14e7df5b-4c5e-4614-a35a-d33c900454be\">\n",
              "    <div class=\"colab-df-container\">\n",
              "      <div>\n",
              "<style scoped>\n",
              "    .dataframe tbody tr th:only-of-type {\n",
              "        vertical-align: middle;\n",
              "    }\n",
              "\n",
              "    .dataframe tbody tr th {\n",
              "        vertical-align: top;\n",
              "    }\n",
              "\n",
              "    .dataframe thead th {\n",
              "        text-align: right;\n",
              "    }\n",
              "</style>\n",
              "<table border=\"1\" class=\"dataframe\">\n",
              "  <thead>\n",
              "    <tr style=\"text-align: right;\">\n",
              "      <th></th>\n",
              "      <th>Sl</th>\n",
              "      <th>Station_Names</th>\n",
              "      <th>Year</th>\n",
              "      <th>Month</th>\n",
              "      <th>Max_Temp</th>\n",
              "      <th>Min_Temp</th>\n",
              "      <th>Rainfall</th>\n",
              "      <th>Relative_Humidity</th>\n",
              "      <th>Wind_Speed</th>\n",
              "      <th>Cloud_Coverage</th>\n",
              "      <th>Bright_Sunshine</th>\n",
              "      <th>Station_Number</th>\n",
              "      <th>X_COR</th>\n",
              "      <th>Y_COR</th>\n",
              "      <th>LATITUDE</th>\n",
              "      <th>LONGITUDE</th>\n",
              "      <th>ALT</th>\n",
              "      <th>Period</th>\n",
              "      <th>Flood?</th>\n",
              "    </tr>\n",
              "  </thead>\n",
              "  <tbody>\n",
              "    <tr>\n",
              "      <th>0</th>\n",
              "      <td>0</td>\n",
              "      <td>Barisal</td>\n",
              "      <td>1949</td>\n",
              "      <td>1</td>\n",
              "      <td>29.4</td>\n",
              "      <td>12.3</td>\n",
              "      <td>0.0</td>\n",
              "      <td>68.0</td>\n",
              "      <td>0.453704</td>\n",
              "      <td>0.6</td>\n",
              "      <td>7.831915</td>\n",
              "      <td>41950</td>\n",
              "      <td>536809.8</td>\n",
              "      <td>510151.9</td>\n",
              "      <td>22.70</td>\n",
              "      <td>90.36</td>\n",
              "      <td>4</td>\n",
              "      <td>1949.01</td>\n",
              "      <td>NaN</td>\n",
              "    </tr>\n",
              "    <tr>\n",
              "      <th>1</th>\n",
              "      <td>1</td>\n",
              "      <td>Barisal</td>\n",
              "      <td>1949</td>\n",
              "      <td>2</td>\n",
              "      <td>33.9</td>\n",
              "      <td>15.2</td>\n",
              "      <td>9.0</td>\n",
              "      <td>63.0</td>\n",
              "      <td>0.659259</td>\n",
              "      <td>0.9</td>\n",
              "      <td>8.314894</td>\n",
              "      <td>41950</td>\n",
              "      <td>536809.8</td>\n",
              "      <td>510151.9</td>\n",
              "      <td>22.70</td>\n",
              "      <td>90.36</td>\n",
              "      <td>4</td>\n",
              "      <td>1949.02</td>\n",
              "      <td>NaN</td>\n",
              "    </tr>\n",
              "    <tr>\n",
              "      <th>2</th>\n",
              "      <td>2</td>\n",
              "      <td>Barisal</td>\n",
              "      <td>1949</td>\n",
              "      <td>3</td>\n",
              "      <td>36.7</td>\n",
              "      <td>20.2</td>\n",
              "      <td>8.0</td>\n",
              "      <td>59.0</td>\n",
              "      <td>1.085185</td>\n",
              "      <td>1.5</td>\n",
              "      <td>8.131915</td>\n",
              "      <td>41950</td>\n",
              "      <td>536809.8</td>\n",
              "      <td>510151.9</td>\n",
              "      <td>22.70</td>\n",
              "      <td>90.36</td>\n",
              "      <td>4</td>\n",
              "      <td>1949.03</td>\n",
              "      <td>NaN</td>\n",
              "    </tr>\n",
              "    <tr>\n",
              "      <th>3</th>\n",
              "      <td>3</td>\n",
              "      <td>Barisal</td>\n",
              "      <td>1949</td>\n",
              "      <td>4</td>\n",
              "      <td>33.9</td>\n",
              "      <td>23.9</td>\n",
              "      <td>140.0</td>\n",
              "      <td>71.0</td>\n",
              "      <td>1.772222</td>\n",
              "      <td>3.9</td>\n",
              "      <td>8.219149</td>\n",
              "      <td>41950</td>\n",
              "      <td>536809.8</td>\n",
              "      <td>510151.9</td>\n",
              "      <td>22.70</td>\n",
              "      <td>90.36</td>\n",
              "      <td>4</td>\n",
              "      <td>1949.04</td>\n",
              "      <td>NaN</td>\n",
              "    </tr>\n",
              "    <tr>\n",
              "      <th>4</th>\n",
              "      <td>4</td>\n",
              "      <td>Barisal</td>\n",
              "      <td>1949</td>\n",
              "      <td>5</td>\n",
              "      <td>35.6</td>\n",
              "      <td>25.0</td>\n",
              "      <td>217.0</td>\n",
              "      <td>76.0</td>\n",
              "      <td>1.703704</td>\n",
              "      <td>4.1</td>\n",
              "      <td>7.046809</td>\n",
              "      <td>41950</td>\n",
              "      <td>536809.8</td>\n",
              "      <td>510151.9</td>\n",
              "      <td>22.70</td>\n",
              "      <td>90.36</td>\n",
              "      <td>4</td>\n",
              "      <td>1949.05</td>\n",
              "      <td>NaN</td>\n",
              "    </tr>\n",
              "    <tr>\n",
              "      <th>...</th>\n",
              "      <td>...</td>\n",
              "      <td>...</td>\n",
              "      <td>...</td>\n",
              "      <td>...</td>\n",
              "      <td>...</td>\n",
              "      <td>...</td>\n",
              "      <td>...</td>\n",
              "      <td>...</td>\n",
              "      <td>...</td>\n",
              "      <td>...</td>\n",
              "      <td>...</td>\n",
              "      <td>...</td>\n",
              "      <td>...</td>\n",
              "      <td>...</td>\n",
              "      <td>...</td>\n",
              "      <td>...</td>\n",
              "      <td>...</td>\n",
              "      <td>...</td>\n",
              "      <td>...</td>\n",
              "    </tr>\n",
              "    <tr>\n",
              "      <th>20539</th>\n",
              "      <td>20539</td>\n",
              "      <td>Teknaf</td>\n",
              "      <td>2013</td>\n",
              "      <td>8</td>\n",
              "      <td>32.5</td>\n",
              "      <td>25.4</td>\n",
              "      <td>851.0</td>\n",
              "      <td>88.0</td>\n",
              "      <td>2.500000</td>\n",
              "      <td>6.2</td>\n",
              "      <td>3.800000</td>\n",
              "      <td>41998</td>\n",
              "      <td>734765.4</td>\n",
              "      <td>308914.1</td>\n",
              "      <td>20.87</td>\n",
              "      <td>92.26</td>\n",
              "      <td>4</td>\n",
              "      <td>2013.08</td>\n",
              "      <td>1.0</td>\n",
              "    </tr>\n",
              "    <tr>\n",
              "      <th>20540</th>\n",
              "      <td>20540</td>\n",
              "      <td>Teknaf</td>\n",
              "      <td>2013</td>\n",
              "      <td>9</td>\n",
              "      <td>32.6</td>\n",
              "      <td>25.7</td>\n",
              "      <td>329.0</td>\n",
              "      <td>88.0</td>\n",
              "      <td>3.000000</td>\n",
              "      <td>6.1</td>\n",
              "      <td>4.200000</td>\n",
              "      <td>41998</td>\n",
              "      <td>734765.4</td>\n",
              "      <td>308914.1</td>\n",
              "      <td>20.87</td>\n",
              "      <td>92.26</td>\n",
              "      <td>4</td>\n",
              "      <td>2013.09</td>\n",
              "      <td>NaN</td>\n",
              "    </tr>\n",
              "    <tr>\n",
              "      <th>20541</th>\n",
              "      <td>20541</td>\n",
              "      <td>Teknaf</td>\n",
              "      <td>2013</td>\n",
              "      <td>10</td>\n",
              "      <td>33.1</td>\n",
              "      <td>24.8</td>\n",
              "      <td>271.0</td>\n",
              "      <td>85.0</td>\n",
              "      <td>2.500000</td>\n",
              "      <td>4.4</td>\n",
              "      <td>5.600000</td>\n",
              "      <td>41998</td>\n",
              "      <td>734765.4</td>\n",
              "      <td>308914.1</td>\n",
              "      <td>20.87</td>\n",
              "      <td>92.26</td>\n",
              "      <td>4</td>\n",
              "      <td>2013.10</td>\n",
              "      <td>NaN</td>\n",
              "    </tr>\n",
              "    <tr>\n",
              "      <th>20542</th>\n",
              "      <td>20542</td>\n",
              "      <td>Teknaf</td>\n",
              "      <td>2013</td>\n",
              "      <td>11</td>\n",
              "      <td>32.5</td>\n",
              "      <td>20.0</td>\n",
              "      <td>0.0</td>\n",
              "      <td>79.0</td>\n",
              "      <td>2.100000</td>\n",
              "      <td>1.7</td>\n",
              "      <td>8.400000</td>\n",
              "      <td>41998</td>\n",
              "      <td>734765.4</td>\n",
              "      <td>308914.1</td>\n",
              "      <td>20.87</td>\n",
              "      <td>92.26</td>\n",
              "      <td>4</td>\n",
              "      <td>2013.11</td>\n",
              "      <td>NaN</td>\n",
              "    </tr>\n",
              "    <tr>\n",
              "      <th>20543</th>\n",
              "      <td>20543</td>\n",
              "      <td>Teknaf</td>\n",
              "      <td>2013</td>\n",
              "      <td>12</td>\n",
              "      <td>29.9</td>\n",
              "      <td>16.5</td>\n",
              "      <td>0.0</td>\n",
              "      <td>72.0</td>\n",
              "      <td>3.000000</td>\n",
              "      <td>0.9</td>\n",
              "      <td>8.100000</td>\n",
              "      <td>41998</td>\n",
              "      <td>734765.4</td>\n",
              "      <td>308914.1</td>\n",
              "      <td>20.87</td>\n",
              "      <td>92.26</td>\n",
              "      <td>4</td>\n",
              "      <td>2013.12</td>\n",
              "      <td>NaN</td>\n",
              "    </tr>\n",
              "  </tbody>\n",
              "</table>\n",
              "<p>20544 rows × 19 columns</p>\n",
              "</div>\n",
              "      <button class=\"colab-df-convert\" onclick=\"convertToInteractive('df-14e7df5b-4c5e-4614-a35a-d33c900454be')\"\n",
              "              title=\"Convert this dataframe to an interactive table.\"\n",
              "              style=\"display:none;\">\n",
              "        \n",
              "  <svg xmlns=\"http://www.w3.org/2000/svg\" height=\"24px\"viewBox=\"0 0 24 24\"\n",
              "       width=\"24px\">\n",
              "    <path d=\"M0 0h24v24H0V0z\" fill=\"none\"/>\n",
              "    <path d=\"M18.56 5.44l.94 2.06.94-2.06 2.06-.94-2.06-.94-.94-2.06-.94 2.06-2.06.94zm-11 1L8.5 8.5l.94-2.06 2.06-.94-2.06-.94L8.5 2.5l-.94 2.06-2.06.94zm10 10l.94 2.06.94-2.06 2.06-.94-2.06-.94-.94-2.06-.94 2.06-2.06.94z\"/><path d=\"M17.41 7.96l-1.37-1.37c-.4-.4-.92-.59-1.43-.59-.52 0-1.04.2-1.43.59L10.3 9.45l-7.72 7.72c-.78.78-.78 2.05 0 2.83L4 21.41c.39.39.9.59 1.41.59.51 0 1.02-.2 1.41-.59l7.78-7.78 2.81-2.81c.8-.78.8-2.07 0-2.86zM5.41 20L4 18.59l7.72-7.72 1.47 1.35L5.41 20z\"/>\n",
              "  </svg>\n",
              "      </button>\n",
              "      \n",
              "  <style>\n",
              "    .colab-df-container {\n",
              "      display:flex;\n",
              "      flex-wrap:wrap;\n",
              "      gap: 12px;\n",
              "    }\n",
              "\n",
              "    .colab-df-convert {\n",
              "      background-color: #E8F0FE;\n",
              "      border: none;\n",
              "      border-radius: 50%;\n",
              "      cursor: pointer;\n",
              "      display: none;\n",
              "      fill: #1967D2;\n",
              "      height: 32px;\n",
              "      padding: 0 0 0 0;\n",
              "      width: 32px;\n",
              "    }\n",
              "\n",
              "    .colab-df-convert:hover {\n",
              "      background-color: #E2EBFA;\n",
              "      box-shadow: 0px 1px 2px rgba(60, 64, 67, 0.3), 0px 1px 3px 1px rgba(60, 64, 67, 0.15);\n",
              "      fill: #174EA6;\n",
              "    }\n",
              "\n",
              "    [theme=dark] .colab-df-convert {\n",
              "      background-color: #3B4455;\n",
              "      fill: #D2E3FC;\n",
              "    }\n",
              "\n",
              "    [theme=dark] .colab-df-convert:hover {\n",
              "      background-color: #434B5C;\n",
              "      box-shadow: 0px 1px 3px 1px rgba(0, 0, 0, 0.15);\n",
              "      filter: drop-shadow(0px 1px 2px rgba(0, 0, 0, 0.3));\n",
              "      fill: #FFFFFF;\n",
              "    }\n",
              "  </style>\n",
              "\n",
              "      <script>\n",
              "        const buttonEl =\n",
              "          document.querySelector('#df-14e7df5b-4c5e-4614-a35a-d33c900454be button.colab-df-convert');\n",
              "        buttonEl.style.display =\n",
              "          google.colab.kernel.accessAllowed ? 'block' : 'none';\n",
              "\n",
              "        async function convertToInteractive(key) {\n",
              "          const element = document.querySelector('#df-14e7df5b-4c5e-4614-a35a-d33c900454be');\n",
              "          const dataTable =\n",
              "            await google.colab.kernel.invokeFunction('convertToInteractive',\n",
              "                                                     [key], {});\n",
              "          if (!dataTable) return;\n",
              "\n",
              "          const docLinkHtml = 'Like what you see? Visit the ' +\n",
              "            '<a target=\"_blank\" href=https://colab.research.google.com/notebooks/data_table.ipynb>data table notebook</a>'\n",
              "            + ' to learn more about interactive tables.';\n",
              "          element.innerHTML = '';\n",
              "          dataTable['output_type'] = 'display_data';\n",
              "          await google.colab.output.renderOutput(dataTable, element);\n",
              "          const docLink = document.createElement('div');\n",
              "          docLink.innerHTML = docLinkHtml;\n",
              "          element.appendChild(docLink);\n",
              "        }\n",
              "      </script>\n",
              "    </div>\n",
              "  </div>\n",
              "  "
            ]
          },
          "metadata": {},
          "execution_count": 3
        }
      ]
    },
    {
      "cell_type": "code",
      "source": [
        "df.info()"
      ],
      "metadata": {
        "colab": {
          "base_uri": "https://localhost:8080/"
        },
        "id": "B8UrXGUbtmfA",
        "outputId": "d76440dc-fe4a-4727-e0d9-d1a2414dea15"
      },
      "execution_count": 4,
      "outputs": [
        {
          "output_type": "stream",
          "name": "stdout",
          "text": [
            "<class 'pandas.core.frame.DataFrame'>\n",
            "RangeIndex: 20544 entries, 0 to 20543\n",
            "Data columns (total 19 columns):\n",
            " #   Column             Non-Null Count  Dtype  \n",
            "---  ------             --------------  -----  \n",
            " 0   Sl                 20544 non-null  int64  \n",
            " 1   Station_Names      20544 non-null  object \n",
            " 2   Year               20544 non-null  int64  \n",
            " 3   Month              20544 non-null  int64  \n",
            " 4   Max_Temp           20544 non-null  float64\n",
            " 5   Min_Temp           20544 non-null  float64\n",
            " 6   Rainfall           20544 non-null  float64\n",
            " 7   Relative_Humidity  20544 non-null  float64\n",
            " 8   Wind_Speed         20544 non-null  float64\n",
            " 9   Cloud_Coverage     20544 non-null  float64\n",
            " 10  Bright_Sunshine    20544 non-null  float64\n",
            " 11  Station_Number     20544 non-null  int64  \n",
            " 12  X_COR              20544 non-null  float64\n",
            " 13  Y_COR              20544 non-null  float64\n",
            " 14  LATITUDE           20544 non-null  float64\n",
            " 15  LONGITUDE          20544 non-null  float64\n",
            " 16  ALT                20544 non-null  int64  \n",
            " 17  Period             20544 non-null  float64\n",
            " 18  Flood?             4493 non-null   float64\n",
            "dtypes: float64(13), int64(5), object(1)\n",
            "memory usage: 3.0+ MB\n"
          ]
        }
      ]
    },
    {
      "cell_type": "code",
      "source": [
        "df[\"Flood?\"].fillna(0, inplace=True)"
      ],
      "metadata": {
        "id": "D2tzIV5vtmcg"
      },
      "execution_count": 5,
      "outputs": []
    },
    {
      "cell_type": "code",
      "source": [
        "df.dropna(inplace=True)"
      ],
      "metadata": {
        "id": "eVYQPuNutmZw"
      },
      "execution_count": 6,
      "outputs": []
    },
    {
      "cell_type": "code",
      "source": [
        "df.drop(['Sl','Station_Names','Period','X_COR','Y_COR','ALT','Period','Station_Number','Year','Month'],axis=1,inplace=True)"
      ],
      "metadata": {
        "id": "C66HAR4XtmXA"
      },
      "execution_count": 7,
      "outputs": []
    },
    {
      "cell_type": "code",
      "source": [
        "df[\"Min_Temp\"] = (df[\"Min_Temp\"] - df[\"Min_Temp\"].mean()) / df[\"Min_Temp\"].std()\n",
        "df[\"Rainfall\"] = (df[\"Rainfall\"] - df[\"Rainfall\"].mean()) / df[\"Rainfall\"].std()\n",
        "df[\"Relative_Humidity\"] = (df[\"Relative_Humidity\"] - df[\"Relative_Humidity\"].mean()) / df[\"Relative_Humidity\"].std()\n",
        "df[\"Wind_Speed\"] = (df[\"Wind_Speed\"] - df[\"Wind_Speed\"].mean()) / df[\"Wind_Speed\"].std()\n",
        "df[\"Cloud_Coverage\"] = (df[\"Cloud_Coverage\"] - df[\"Cloud_Coverage\"].mean()) / df[\"Cloud_Coverage\"].std()\n",
        "df[\"Bright_Sunshine\"] = (df[\"Bright_Sunshine\"] - df[\"Bright_Sunshine\"].mean()) / df[\"Bright_Sunshine\"].std()\n",
        "df[\"LATITUDE\"] = (df[\"LATITUDE\"] - df[\"LATITUDE\"].mean()) / df[\"LATITUDE\"].std()\n",
        "df[\"LONGITUDE\"] = (df[\"LONGITUDE\"] - df[\"LONGITUDE\"].mean()) / df[\"LONGITUDE\"].std()"
      ],
      "metadata": {
        "id": "zbbIhnkqtmT_"
      },
      "execution_count": 8,
      "outputs": []
    },
    {
      "cell_type": "code",
      "source": [
        "from sklearn.model_selection import train_test_split\n",
        "from sklearn.ensemble import RandomForestClassifier\n",
        "from sklearn.metrics import accuracy_score, auc, recall_score, f1_score, matthews_corrcoef\n",
        "from sklearn.metrics import roc_auc_score"
      ],
      "metadata": {
        "id": "jFnbR_vktmRf"
      },
      "execution_count": 9,
      "outputs": []
    },
    {
      "cell_type": "code",
      "source": [
        "# Split the data into features and target\n",
        "X = df.drop(columns=[\"Flood?\"])\n",
        "y = df[\"Flood?\"]\n",
        "y=y.astype('int')"
      ],
      "metadata": {
        "id": "dFjRF_84xTlL"
      },
      "execution_count": 10,
      "outputs": []
    },
    {
      "cell_type": "code",
      "source": [
        "# Split the data into training and testing sets\n",
        "X_train, X_test, y_train, y_test = train_test_split(X, y, test_size=0.2)\n",
        "\n",
        "# Train a random forest model\n",
        "model = RandomForestClassifier()\n",
        "model.fit(X_train, y_train)\n",
        "\n",
        "# Make predictions on the test set\n",
        "y_pred = model.predict(X_test)\n",
        "y_pred_proba = model.predict_proba(X_test)[:, 1]\n",
        "\n",
        "# Calculate the evaluation metrics\n",
        "accuracy = accuracy_score(y_test, y_pred)\n",
        "auc_score = roc_auc_score(y_test, y_pred_proba)\n",
        "recall = recall_score(y_test, y_pred)\n",
        "f1 = f1_score(y_test, y_pred)\n",
        "mcc = matthews_corrcoef(y_test, y_pred)\n",
        "\n",
        "# Print the evaluation metrics\n",
        "print(\"Accuracy:\", accuracy)\n",
        "print(\"AUC:\", auc_score)\n",
        "print(\"Recall:\", recall)\n",
        "print(\"F1 Score:\", f1)\n",
        "print(\"MCC:\", mcc)"
      ],
      "metadata": {
        "colab": {
          "base_uri": "https://localhost:8080/"
        },
        "id": "jT9WlFGpwYL6",
        "outputId": "e5a28663-685e-45e1-9ed8-39cbaede1170"
      },
      "execution_count": 11,
      "outputs": [
        {
          "output_type": "stream",
          "name": "stdout",
          "text": [
            "Accuracy: 0.9707958140666829\n",
            "AUC: 0.9929393923986835\n",
            "Recall: 0.9008464328899637\n",
            "F1 Score: 0.9254658385093167\n",
            "MCC: 0.9078472164809889\n"
          ]
        }
      ]
    },
    {
      "cell_type": "markdown",
      "source": [
        "feature importance"
      ],
      "metadata": {
        "id": "M_5rnbDG1gu9"
      }
    },
    {
      "cell_type": "code",
      "source": [
        "import pandas as pd\n",
        "from sklearn.ensemble import RandomForestClassifier\n",
        "from sklearn.model_selection import train_test_split\n",
        "import matplotlib.pyplot as plt\n",
        "\n",
        "\n",
        "\n",
        "# Split the data into training and test sets\n",
        "X_train, X_test, y_train, y_test = train_test_split(X, y, test_size=0.2, random_state=0)\n",
        "\n",
        "# Create a random forest classifier\n",
        "clf = RandomForestClassifier(n_estimators=100, random_state=0)\n",
        "\n",
        "# Train the classifier on the training data\n",
        "clf.fit(X_train, y_train)\n",
        "\n",
        "# Get feature importances\n",
        "importances = clf.feature_importances_\n",
        "\n",
        "# Sort feature importances in descending order\n",
        "indices = np.argsort(importances)[::-1]\n",
        "\n",
        "# Rearrange feature names so they match the sorted feature importances\n",
        "names = [df.columns[i] for i in indices]\n",
        "\n",
        "# Create plot\n",
        "plt.figure()\n",
        "\n",
        "# Create plot title\n",
        "plt.title(\"Feature Importance\")\n",
        "\n",
        "# Add bars\n",
        "plt.barh(range(X.shape[1]), importances[indices])\n",
        "\n",
        "# Add feature names as y-axis labels\n",
        "plt.yticks(range(X.shape[1]), names)\n",
        "\n",
        "# Show plot\n",
        "plt.show()"
      ],
      "metadata": {
        "colab": {
          "base_uri": "https://localhost:8080/",
          "height": 281
        },
        "id": "c4zefxvJ1gaM",
        "outputId": "1834bb95-46b8-4bcb-97c5-2a83060be455"
      },
      "execution_count": 12,
      "outputs": [
        {
          "output_type": "display_data",
          "data": {
            "text/plain": [
              "<Figure size 432x288 with 1 Axes>"
            ],
            "image/png": "[encoded data removed]"
          },
          "metadata": {
            "needs_background": "light"
          }
        }
      ]
    },
    {
      "cell_type": "markdown",
      "source": [
        "LR feature importance "
      ],
      "metadata": {
        "id": "I79dZpCcGDwk"
      }
    },
    {
      "cell_type": "code",
      "source": [
        "from sklearn.linear_model import LogisticRegression\n",
        "from sklearn.model_selection import train_test_split\n",
        "import pandas as pd\n",
        "\n",
        "\n",
        "\n",
        "# Split the data into training and testing sets\n",
        "X_train, X_test, y_train, y_test = train_test_split(X, y, test_size=0.2, random_state=0)\n",
        "\n",
        "# Create an instance of the logistic regression model\n",
        "logreg = LogisticRegression()\n",
        "\n",
        "# Fit the model to the training data\n",
        "logreg.fit(X_train, y_train)\n",
        "\n",
        "# Extract the feature importance\n",
        "importance = logreg.coef_[0]\n",
        "\n",
        "# Create a list of feature importance and feature names\n",
        "feature_importance = pd.DataFrame(list(zip(X.columns, importance)), columns=['Feature', 'Importance'])\n",
        "\n",
        "# Print the feature importance\n",
        "print(feature_importance)\n"
      ],
      "metadata": {
        "colab": {
          "base_uri": "https://localhost:8080/"
        },
        "id": "FyxJKCVvKCYJ",
        "outputId": "7c9649fc-235b-4080-d05f-e8d8a2ff7f8d"
      },
      "execution_count": 13,
      "outputs": [
        {
          "output_type": "stream",
          "name": "stdout",
          "text": [
            "             Feature  Importance\n",
            "0           Max_Temp   -0.113757\n",
            "1           Min_Temp    0.433832\n",
            "2           Rainfall    4.810172\n",
            "3  Relative_Humidity    0.100269\n",
            "4         Wind_Speed   -0.104612\n",
            "5     Cloud_Coverage    0.015007\n",
            "6    Bright_Sunshine   -0.013960\n",
            "7           LATITUDE   -0.184583\n",
            "8          LONGITUDE   -0.944224\n"
          ]
        }
      ]
    },
    {
      "cell_type": "code",
      "source": [
        "import seaborn as sns\n",
        "sns.barplot(x = 'Importance', y = 'Feature', data = feature_importance)\n",
        "plt.title('Logistic Regression Feature Importance')\n",
        "plt.show()"
      ],
      "metadata": {
        "colab": {
          "base_uri": "https://localhost:8080/",
          "height": 295
        },
        "id": "xE7nFZoWKCSJ",
        "outputId": "1e6cffdd-2aa1-4ad8-d0c1-6d2705ed11da"
      },
      "execution_count": 14,
      "outputs": [
        {
          "output_type": "display_data",
          "data": {
            "text/plain": [
              "<Figure size 432x288 with 1 Axes>"
            ],
            "image/png": "[encoded data removed]"
          },
          "metadata": {
            "needs_background": "light"
          }
        }
      ]
    },
    {
      "cell_type": "code",
      "source": [],
      "metadata": {
        "id": "f-6VA1oTKCPp"
      },
      "execution_count": 14,
      "outputs": []
    },
    {
      "cell_type": "code",
      "source": [],
      "metadata": {
        "id": "s6SPNEC7KA2Q"
      },
      "execution_count": 14,
      "outputs": []
    },
    {
      "cell_type": "code",
      "source": [],
      "metadata": {
        "id": "aAbvAcmxKAzS"
      },
      "execution_count": 14,
      "outputs": []
    },
    {
      "cell_type": "code",
      "source": [],
      "metadata": {
        "id": "EdOest4bKAwC"
      },
      "execution_count": 14,
      "outputs": []
    }
  ]
}